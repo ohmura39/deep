{
 "cells": [
  {
   "cell_type": "code",
   "execution_count": 14,
   "metadata": {},
   "outputs": [],
   "source": [
    "import pandas as pd\n",
    "import numpy as np\n",
    "from datetime import datetime\n",
    "import matplotlib.pyplot as plt"
   ]
  },
  {
   "cell_type": "code",
   "execution_count": 15,
   "metadata": {},
   "outputs": [],
   "source": [
    "# 市場データの取得\n",
    "from pandas_datareader import data\n",
    "marketData=['NIKKEI225','SP500','NASDAQCOM']\n",
    "df_market = data.DataReader(marketData,'fred','2014-01-01', '2023-1-31').asfreq(\"D\")\n",
    "df_market = df_market.fillna(method='ffill')\n",
    "df_market = df_market.dropna(how='any')\n"
   ]
  },
  {
   "cell_type": "code",
   "execution_count": 16,
   "metadata": {},
   "outputs": [],
   "source": [
    "# 各指数の移動平均との乖離率を算出する\n",
    "for index_name in df_market.columns:\n",
    "    for i in [5,10,30,60,90,120]:\n",
    "        df_market[index_name + \"_\" + str(i) + \"days_diffrol\"] =\\\n",
    "        (df_market[index_name].rolling(i).mean() - df_market[index_name]) / df_market[index_name].rolling(i).mean()"
   ]
  },
  {
   "cell_type": "code",
   "execution_count": 17,
   "metadata": {},
   "outputs": [],
   "source": [
    "# 生データは削除する\n",
    "df_market = df_market.drop(columns=index_name)"
   ]
  },
  {
   "cell_type": "code",
   "execution_count": 18,
   "metadata": {},
   "outputs": [],
   "source": [
    "# 予測する企業の株価データを取得\n",
    "from pandas_datareader.stooq import StooqDailyReader\n",
    "CODE = 4755\n",
    "CODE_str = str(CODE) + \".JP\"\n",
    "start = datetime(2014, 1, 1)\n",
    "end = datetime(2023, 1, 31)\n",
    "\n",
    "df_target = StooqDailyReader(CODE_str, start=start, end=end).read()\n",
    "df_target = df_target.sort_values('Date')\n",
    "df_target = pd.DataFrame(df_target).asfreq(\"D\", method=\"ffill\")\n"
   ]
  },
  {
   "cell_type": "code",
   "execution_count": 19,
   "metadata": {},
   "outputs": [],
   "source": [
    "# 目的変数の作成（30日後に5 %以上上昇する時に1）\n",
    "df_target[\"30days_after\"] = df_target[\"Close\"].shift(-30)\n",
    "df_target['ratio'] = df_target['30days_after'] / df_target[\"Close\"]\n",
    "df_target['target'] = np.where(df_target['ratio'] > 1.1, 1, 0)"
   ]
  },
  {
   "cell_type": "code",
   "execution_count": 20,
   "metadata": {},
   "outputs": [],
   "source": [
    "# 不要な行と列を削除\n",
    "df_target = df_target.dropna(how='any')\n",
    "df_target = df_target.drop(columns=[\"ratio\",\"30days_after\"])"
   ]
  },
  {
   "cell_type": "code",
   "execution_count": 21,
   "metadata": {},
   "outputs": [],
   "source": [
    "# データの結合\n",
    "df = pd.merge(df_target, df_market, how='left', left_index=True, right_index=True)\n",
    "df = df.dropna(how='any')"
   ]
  },
  {
   "cell_type": "code",
   "execution_count": 22,
   "metadata": {},
   "outputs": [],
   "source": [
    "# トレインとテストに分割\n",
    "df_train = df[:\"2021\"]\n",
    "df_test = df[\"2022\":]"
   ]
  },
  {
   "cell_type": "code",
   "execution_count": 23,
   "metadata": {},
   "outputs": [],
   "source": [
    "# 目的変数と説明変数に分割\n",
    "X_train = df_train.drop(\"target\", axis=1)\n",
    "y_train = df_train[\"target\"]\n",
    "X_test = df_test.drop(\"target\", axis=1)\n",
    "y_test = df_test[\"target\"]"
   ]
  },
  {
   "cell_type": "code",
   "execution_count": 24,
   "metadata": {},
   "outputs": [],
   "source": [
    "# 学習\n",
    "from sklearn.linear_model import LogisticRegression"
   ]
  },
  {
   "cell_type": "code",
   "execution_count": 26,
   "metadata": {},
   "outputs": [],
   "source": [
    "# ロジスティック回帰のインスタンス\n",
    "model = LogisticRegression(penalty='l2',          # 正則化項(L1正則化 or L2正則化が選択可能)\n",
    "                           dual=False,            # Dual or primal\n",
    "                           tol=0.0001,            # 計算を停止するための基準値\n",
    "                           C=1.0,                 # 正則化の強さ\n",
    "                           fit_intercept=True,    # バイアス項の計算要否\n",
    "                           intercept_scaling=1,   # solver=‘liblinear’の際に有効なスケーリング基準値\n",
    "                           class_weight=None,     # クラスに付与された重み\n",
    "                           random_state=None,     # 乱数シード\n",
    "                           solver='lbfgs',        # ハイパーパラメータ探索アルゴリズム\n",
    "                           max_iter=100,          # 最大イテレーション数\n",
    "                           multi_class='auto',    # クラスラベルの分類問題（2値問題の場合'auto'を指定）\n",
    "                           verbose=0,             # liblinearおよびlbfgsがsolverに指定されている場合、冗長性のためにverboseを任意の正の数に設定\n",
    "                           warm_start=False,      # Trueの場合、モデル学習の初期化に前の呼出情報を利用\n",
    "                           n_jobs=None,           # 学習時に並列して動かすスレッドの数\n",
    "                           l1_ratio=None          # L1/L2正則化比率(penaltyでElastic Netを指定した場合のみ)\n",
    "                          )"
   ]
  },
  {
   "cell_type": "code",
   "execution_count": 27,
   "metadata": {},
   "outputs": [],
   "source": [
    "model.fit(X_train, y_train) # モデルの学習\n",
    "# 予測値と実値との比較\n",
    "df_result = pd.DataFrame()\n",
    "df_result[\"Price\"] = df_target[\"Close\"][\"2022-01-01\":]\n",
    "df_result[\"true\"] = y_test\n",
    "df_result[\"Pred\"] = model.predict(X_test)"
   ]
  },
  {
   "cell_type": "code",
   "execution_count": 28,
   "metadata": {},
   "outputs": [
    {
     "name": "stdout",
     "output_type": "stream",
     "text": [
      "             Price  true  Pred\n",
      "Date                          \n",
      "2022-01-01  1154.0     0     0\n",
      "2022-01-02  1154.0     0     0\n",
      "2022-01-03  1154.0     0     0\n",
      "2022-01-04  1162.0     0     0\n",
      "2022-01-05  1197.0     0     0\n",
      "...            ...   ...   ...\n",
      "2022-12-28   581.0     1     0\n",
      "2022-12-29   594.0     1     0\n",
      "2022-12-30   596.0     1     0\n",
      "2022-12-31   596.0     1     0\n",
      "2023-01-01   596.0     1     0\n",
      "\n",
      "[366 rows x 3 columns]\n"
     ]
    }
   ],
   "source": [
    "print(df_result)"
   ]
  },
  {
   "cell_type": "code",
   "execution_count": 29,
   "metadata": {},
   "outputs": [
    {
     "data": {
      "text/plain": [
       "Date\n",
       "2022-01-01    0\n",
       "2022-01-02    0\n",
       "2022-01-03    0\n",
       "2022-01-04    0\n",
       "2022-01-05    0\n",
       "             ..\n",
       "2022-12-28    0\n",
       "2022-12-29    0\n",
       "2022-12-30    0\n",
       "2022-12-31    0\n",
       "2023-01-01    0\n",
       "Freq: D, Name: Pred, Length: 366, dtype: int32"
      ]
     },
     "execution_count": 29,
     "metadata": {},
     "output_type": "execute_result"
    }
   ],
   "source": [
    "df_result[\"Pred\"]"
   ]
  },
  {
   "cell_type": "code",
   "execution_count": 30,
   "metadata": {},
   "outputs": [
    {
     "name": "stdout",
     "output_type": "stream",
     "text": [
      "df_result\n"
     ]
    }
   ],
   "source": [
    "print(\"df_result\")"
   ]
  },
  {
   "cell_type": "code",
   "execution_count": 31,
   "metadata": {},
   "outputs": [
    {
     "data": {
      "text/html": [
       "<div>\n",
       "<style scoped>\n",
       "    .dataframe tbody tr th:only-of-type {\n",
       "        vertical-align: middle;\n",
       "    }\n",
       "\n",
       "    .dataframe tbody tr th {\n",
       "        vertical-align: top;\n",
       "    }\n",
       "\n",
       "    .dataframe thead th {\n",
       "        text-align: right;\n",
       "    }\n",
       "</style>\n",
       "<table border=\"1\" class=\"dataframe\">\n",
       "  <thead>\n",
       "    <tr style=\"text-align: right;\">\n",
       "      <th></th>\n",
       "      <th>Price</th>\n",
       "      <th>true</th>\n",
       "      <th>Pred</th>\n",
       "    </tr>\n",
       "    <tr>\n",
       "      <th>Date</th>\n",
       "      <th></th>\n",
       "      <th></th>\n",
       "      <th></th>\n",
       "    </tr>\n",
       "  </thead>\n",
       "  <tbody>\n",
       "    <tr>\n",
       "      <th>2022-01-01</th>\n",
       "      <td>1154.0</td>\n",
       "      <td>0</td>\n",
       "      <td>0</td>\n",
       "    </tr>\n",
       "    <tr>\n",
       "      <th>2022-01-02</th>\n",
       "      <td>1154.0</td>\n",
       "      <td>0</td>\n",
       "      <td>0</td>\n",
       "    </tr>\n",
       "    <tr>\n",
       "      <th>2022-01-03</th>\n",
       "      <td>1154.0</td>\n",
       "      <td>0</td>\n",
       "      <td>0</td>\n",
       "    </tr>\n",
       "    <tr>\n",
       "      <th>2022-01-04</th>\n",
       "      <td>1162.0</td>\n",
       "      <td>0</td>\n",
       "      <td>0</td>\n",
       "    </tr>\n",
       "    <tr>\n",
       "      <th>2022-01-05</th>\n",
       "      <td>1197.0</td>\n",
       "      <td>0</td>\n",
       "      <td>0</td>\n",
       "    </tr>\n",
       "    <tr>\n",
       "      <th>...</th>\n",
       "      <td>...</td>\n",
       "      <td>...</td>\n",
       "      <td>...</td>\n",
       "    </tr>\n",
       "    <tr>\n",
       "      <th>2022-12-28</th>\n",
       "      <td>581.0</td>\n",
       "      <td>1</td>\n",
       "      <td>0</td>\n",
       "    </tr>\n",
       "    <tr>\n",
       "      <th>2022-12-29</th>\n",
       "      <td>594.0</td>\n",
       "      <td>1</td>\n",
       "      <td>0</td>\n",
       "    </tr>\n",
       "    <tr>\n",
       "      <th>2022-12-30</th>\n",
       "      <td>596.0</td>\n",
       "      <td>1</td>\n",
       "      <td>0</td>\n",
       "    </tr>\n",
       "    <tr>\n",
       "      <th>2022-12-31</th>\n",
       "      <td>596.0</td>\n",
       "      <td>1</td>\n",
       "      <td>0</td>\n",
       "    </tr>\n",
       "    <tr>\n",
       "      <th>2023-01-01</th>\n",
       "      <td>596.0</td>\n",
       "      <td>1</td>\n",
       "      <td>0</td>\n",
       "    </tr>\n",
       "  </tbody>\n",
       "</table>\n",
       "<p>366 rows × 3 columns</p>\n",
       "</div>"
      ],
      "text/plain": [
       "             Price  true  Pred\n",
       "Date                          \n",
       "2022-01-01  1154.0     0     0\n",
       "2022-01-02  1154.0     0     0\n",
       "2022-01-03  1154.0     0     0\n",
       "2022-01-04  1162.0     0     0\n",
       "2022-01-05  1197.0     0     0\n",
       "...            ...   ...   ...\n",
       "2022-12-28   581.0     1     0\n",
       "2022-12-29   594.0     1     0\n",
       "2022-12-30   596.0     1     0\n",
       "2022-12-31   596.0     1     0\n",
       "2023-01-01   596.0     1     0\n",
       "\n",
       "[366 rows x 3 columns]"
      ]
     },
     "execution_count": 31,
     "metadata": {},
     "output_type": "execute_result"
    }
   ],
   "source": [
    "df_result"
   ]
  },
  {
   "cell_type": "code",
   "execution_count": 32,
   "metadata": {},
   "outputs": [],
   "source": [
    "true_count = df_result[df_result[\"Pred\"] == True].shape[0]\n",
    "false_count = df_result[df_result[\"Pred\"] == False].shape[0]\n"
   ]
  },
  {
   "cell_type": "code",
   "execution_count": 33,
   "metadata": {},
   "outputs": [
    {
     "name": "stdout",
     "output_type": "stream",
     "text": [
      "True count:  0\n",
      "False count:  366\n"
     ]
    }
   ],
   "source": [
    "print(\"True count: \", true_count)\n",
    "print(\"False count: \", false_count)\n"
   ]
  }
 ],
 "metadata": {
  "kernelspec": {
   "display_name": "Python 3",
   "language": "python",
   "name": "python3"
  },
  "language_info": {
   "codemirror_mode": {
    "name": "ipython",
    "version": 3
   },
   "file_extension": ".py",
   "mimetype": "text/x-python",
   "name": "python",
   "nbconvert_exporter": "python",
   "pygments_lexer": "ipython3",
   "version": "3.11.1"
  },
  "orig_nbformat": 4
 },
 "nbformat": 4,
 "nbformat_minor": 2
}
