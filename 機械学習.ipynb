{
 "cells": [
  {
   "cell_type": "code",
   "execution_count": 1,
   "metadata": {},
   "outputs": [],
   "source": [
    "from datetime import datetime"
   ]
  },
  {
   "cell_type": "code",
   "execution_count": 2,
   "metadata": {},
   "outputs": [],
   "source": [
    "import pandas as pd"
   ]
  },
  {
   "cell_type": "code",
   "execution_count": 3,
   "metadata": {},
   "outputs": [],
   "source": [
    "df = pd.read_csv('usdjpy.csv',encoding='utf-8',header=0)"
   ]
  },
  {
   "cell_type": "code",
   "execution_count": 4,
   "metadata": {},
   "outputs": [
    {
     "data": {
      "text/html": [
       "<div>\n",
       "<style scoped>\n",
       "    .dataframe tbody tr th:only-of-type {\n",
       "        vertical-align: middle;\n",
       "    }\n",
       "\n",
       "    .dataframe tbody tr th {\n",
       "        vertical-align: top;\n",
       "    }\n",
       "\n",
       "    .dataframe thead th {\n",
       "        text-align: right;\n",
       "    }\n",
       "</style>\n",
       "<table border=\"1\" class=\"dataframe\">\n",
       "  <thead>\n",
       "    <tr style=\"text-align: right;\">\n",
       "      <th></th>\n",
       "      <th>年月日</th>\n",
       "      <th>終値</th>\n",
       "    </tr>\n",
       "  </thead>\n",
       "  <tbody>\n",
       "    <tr>\n",
       "      <th>0</th>\n",
       "      <td>2021/01/04 7:00:00</td>\n",
       "      <td>103.222</td>\n",
       "    </tr>\n",
       "    <tr>\n",
       "      <th>1</th>\n",
       "      <td>2021/01/04 8:00:00</td>\n",
       "      <td>103.248</td>\n",
       "    </tr>\n",
       "    <tr>\n",
       "      <th>2</th>\n",
       "      <td>2021/01/04 9:00:00</td>\n",
       "      <td>103.064</td>\n",
       "    </tr>\n",
       "    <tr>\n",
       "      <th>3</th>\n",
       "      <td>2021/01/04 10:00:00</td>\n",
       "      <td>103.058</td>\n",
       "    </tr>\n",
       "    <tr>\n",
       "      <th>4</th>\n",
       "      <td>2021/01/04 11:00:00</td>\n",
       "      <td>102.983</td>\n",
       "    </tr>\n",
       "    <tr>\n",
       "      <th>...</th>\n",
       "      <td>...</td>\n",
       "      <td>...</td>\n",
       "    </tr>\n",
       "    <tr>\n",
       "      <th>12896</th>\n",
       "      <td>2023/01/26 18:00:00</td>\n",
       "      <td>129.959</td>\n",
       "    </tr>\n",
       "    <tr>\n",
       "      <th>12897</th>\n",
       "      <td>2023/01/26 19:00:00</td>\n",
       "      <td>129.680</td>\n",
       "    </tr>\n",
       "    <tr>\n",
       "      <th>12898</th>\n",
       "      <td>2023/01/26 20:00:00</td>\n",
       "      <td>129.824</td>\n",
       "    </tr>\n",
       "    <tr>\n",
       "      <th>12899</th>\n",
       "      <td>2023/01/26 21:00:00</td>\n",
       "      <td>129.756</td>\n",
       "    </tr>\n",
       "    <tr>\n",
       "      <th>12900</th>\n",
       "      <td>2023/01/26 22:00:00</td>\n",
       "      <td>129.877</td>\n",
       "    </tr>\n",
       "  </tbody>\n",
       "</table>\n",
       "<p>12901 rows × 2 columns</p>\n",
       "</div>"
      ],
      "text/plain": [
       "                       年月日       終値\n",
       "0       2021/01/04 7:00:00  103.222\n",
       "1       2021/01/04 8:00:00  103.248\n",
       "2       2021/01/04 9:00:00  103.064\n",
       "3      2021/01/04 10:00:00  103.058\n",
       "4      2021/01/04 11:00:00  102.983\n",
       "...                    ...      ...\n",
       "12896  2023/01/26 18:00:00  129.959\n",
       "12897  2023/01/26 19:00:00  129.680\n",
       "12898  2023/01/26 20:00:00  129.824\n",
       "12899  2023/01/26 21:00:00  129.756\n",
       "12900  2023/01/26 22:00:00  129.877\n",
       "\n",
       "[12901 rows x 2 columns]"
      ]
     },
     "execution_count": 4,
     "metadata": {},
     "output_type": "execute_result"
    }
   ],
   "source": [
    "df"
   ]
  },
  {
   "cell_type": "code",
   "execution_count": 5,
   "metadata": {},
   "outputs": [],
   "source": [
    "df.index=df.index+1"
   ]
  },
  {
   "cell_type": "code",
   "execution_count": 6,
   "metadata": {},
   "outputs": [
    {
     "data": {
      "text/html": [
       "<div>\n",
       "<style scoped>\n",
       "    .dataframe tbody tr th:only-of-type {\n",
       "        vertical-align: middle;\n",
       "    }\n",
       "\n",
       "    .dataframe tbody tr th {\n",
       "        vertical-align: top;\n",
       "    }\n",
       "\n",
       "    .dataframe thead th {\n",
       "        text-align: right;\n",
       "    }\n",
       "</style>\n",
       "<table border=\"1\" class=\"dataframe\">\n",
       "  <thead>\n",
       "    <tr style=\"text-align: right;\">\n",
       "      <th></th>\n",
       "      <th>年月日</th>\n",
       "      <th>終値</th>\n",
       "    </tr>\n",
       "  </thead>\n",
       "  <tbody>\n",
       "    <tr>\n",
       "      <th>1</th>\n",
       "      <td>2021/01/04 7:00:00</td>\n",
       "      <td>103.222</td>\n",
       "    </tr>\n",
       "    <tr>\n",
       "      <th>2</th>\n",
       "      <td>2021/01/04 8:00:00</td>\n",
       "      <td>103.248</td>\n",
       "    </tr>\n",
       "    <tr>\n",
       "      <th>3</th>\n",
       "      <td>2021/01/04 9:00:00</td>\n",
       "      <td>103.064</td>\n",
       "    </tr>\n",
       "    <tr>\n",
       "      <th>4</th>\n",
       "      <td>2021/01/04 10:00:00</td>\n",
       "      <td>103.058</td>\n",
       "    </tr>\n",
       "    <tr>\n",
       "      <th>5</th>\n",
       "      <td>2021/01/04 11:00:00</td>\n",
       "      <td>102.983</td>\n",
       "    </tr>\n",
       "    <tr>\n",
       "      <th>...</th>\n",
       "      <td>...</td>\n",
       "      <td>...</td>\n",
       "    </tr>\n",
       "    <tr>\n",
       "      <th>12897</th>\n",
       "      <td>2023/01/26 18:00:00</td>\n",
       "      <td>129.959</td>\n",
       "    </tr>\n",
       "    <tr>\n",
       "      <th>12898</th>\n",
       "      <td>2023/01/26 19:00:00</td>\n",
       "      <td>129.680</td>\n",
       "    </tr>\n",
       "    <tr>\n",
       "      <th>12899</th>\n",
       "      <td>2023/01/26 20:00:00</td>\n",
       "      <td>129.824</td>\n",
       "    </tr>\n",
       "    <tr>\n",
       "      <th>12900</th>\n",
       "      <td>2023/01/26 21:00:00</td>\n",
       "      <td>129.756</td>\n",
       "    </tr>\n",
       "    <tr>\n",
       "      <th>12901</th>\n",
       "      <td>2023/01/26 22:00:00</td>\n",
       "      <td>129.877</td>\n",
       "    </tr>\n",
       "  </tbody>\n",
       "</table>\n",
       "<p>12901 rows × 2 columns</p>\n",
       "</div>"
      ],
      "text/plain": [
       "                       年月日       終値\n",
       "1       2021/01/04 7:00:00  103.222\n",
       "2       2021/01/04 8:00:00  103.248\n",
       "3       2021/01/04 9:00:00  103.064\n",
       "4      2021/01/04 10:00:00  103.058\n",
       "5      2021/01/04 11:00:00  102.983\n",
       "...                    ...      ...\n",
       "12897  2023/01/26 18:00:00  129.959\n",
       "12898  2023/01/26 19:00:00  129.680\n",
       "12899  2023/01/26 20:00:00  129.824\n",
       "12900  2023/01/26 21:00:00  129.756\n",
       "12901  2023/01/26 22:00:00  129.877\n",
       "\n",
       "[12901 rows x 2 columns]"
      ]
     },
     "execution_count": 6,
     "metadata": {},
     "output_type": "execute_result"
    }
   ],
   "source": [
    "df"
   ]
  },
  {
   "cell_type": "code",
   "execution_count": 7,
   "metadata": {},
   "outputs": [],
   "source": [
    "import matplotlib.pyplot as plt"
   ]
  },
  {
   "cell_type": "code",
   "execution_count": 8,
   "metadata": {},
   "outputs": [
    {
     "data": {
      "image/png": "[encoded data removed]",
      "text/plain": [
       "<Figure size 640x480 with 1 Axes>"
      ]
     },
     "metadata": {},
     "output_type": "display_data"
    }
   ],
   "source": [
    "plt.hist(df['終値'])\n",
    "plt.show()"
   ]
  },
  {
   "cell_type": "code",
   "execution_count": 9,
   "metadata": {},
   "outputs": [],
   "source": [
    "import scipy.stats as stats\n",
    "\n",
    "\n"
   ]
  },
  {
   "cell_type": "code",
   "execution_count": 10,
   "metadata": {},
   "outputs": [
    {
     "data": {
      "image/png": "[encoded data removed]",
      "text/plain": [
       "<Figure size 640x480 with 1 Axes>"
      ]
     },
     "metadata": {},
     "output_type": "display_data"
    }
   ],
   "source": [
    "import pandas as pd\n",
    "import numpy as np\n",
    "import matplotlib.pyplot as plt\n",
    "import scipy.stats as stats\n",
    "\n",
    "df = pd.read_csv('usdjpy.csv', encoding='utf-8', header=0)\n",
    "\n",
    "# ヒストグラムの作成\n",
    "plt.hist(df['終値'], bins=30, density=True)\n",
    "\n",
    "# 平均と標準偏差を取得して、正規分布を近似させる\n",
    "mu, std = stats.norm.fit(df['終値'])\n",
    "x = np.linspace(df['終値'].min(), df['終値'].max(), len(df['終値']))\n",
    "p = stats.norm.pdf(x, mu, std)\n",
    "\n",
    "# 正規分布をプロットする\n",
    "plt.plot(x, p, 'k', linewidth=2)\n",
    "\n",
    "# グラフの表示\n",
    "plt.show()\n"
   ]
  },
  {
   "attachments": {},
   "cell_type": "markdown",
   "metadata": {},
   "source": [
    "正規分布に近似させるためには、以下の手順を実行する必要があります。\n",
    "\n",
    "1. ヒストグラムを作成する。( 上記で既に作成済み )\n",
    "\n",
    "2. scipy.statsライブラリからnorm関数をインポートする。\n",
    "\n",
    "3. データフレームの\"Close\"列の平均と標準偏差を取得する。\n",
    "\n",
    "4. 取得した平均値と標準偏差を使用して正規分布の確率密度関数を計算する。\n",
    "\n",
    "5. 確率密度関数をプロットする。\n",
    "\n",
    "6. プロットにヒストグラムを重ねる。\n",
    "\n",
    "以下は、上記の手順を示すコード例です。\n",
    "\n",
    "```python\n",
    "import pandas as pd\n",
    "import matplotlib.pyplot as plt\n",
    "import scipy.stats as stats\n",
    "\n",
    "df = pd.read_csv('usdjpy.csv', encoding='utf-8', header=0)\n",
    "\n",
    "# ヒストグラムの作成\n",
    "plt.hist(df['Close'], bins=30, density=True)\n",
    "\n",
    "# 平均と標準偏差を取得して、正規分布を近似させる\n",
    "mu, std = stats.norm.fit(df['Close'])\n",
    "x = np.linspace(df['Close'].min(), df['Close'].max(), len(df['Close']))\n",
    "p = stats.norm.pdf(x, mu, std)\n",
    "\n",
    "# 正規分布をプロットする\n",
    "plt.plot(x, p, 'k', linewidth=2)\n",
    "\n",
    "# グラフの表示\n",
    "plt.show()\n",
    "```\n",
    "\n",
    "このコードを実行すると、ヒストグラムに正規分布の確率密度関数が重ねられたグラフが表示されます。データが正規分布に近似している場合、プロットされた正規分布曲線がヒストグラムのバーに近くなることが期待されます。"
   ]
  },
  {
   "cell_type": "code",
   "execution_count": 11,
   "metadata": {},
   "outputs": [],
   "source": [
    "import numpy as np\n",
    "\n",
    "data = [df]\n",
    "\n",
    "\n",
    "data = [1, 2, 3, 4, 5, 6, 7, 8, 9, 10]\n",
    "\n",
    "log_data = np.log(data)\n"
   ]
  },
  {
   "cell_type": "code",
   "execution_count": 12,
   "metadata": {},
   "outputs": [
    {
     "data": {
      "image/png": "[encoded data removed]",
      "text/plain": [
       "<Figure size 1000x500 with 2 Axes>"
      ]
     },
     "metadata": {},
     "output_type": "display_data"
    }
   ],
   "source": [
    "import matplotlib.pyplot as plt\n",
    "\n",
    "fig, axs = plt.subplots(1, 2, figsize=(10,5))\n",
    "\n",
    "axs[0].hist(data, bins=10)\n",
    "axs[0].set_title(\"Original Data\")\n",
    "\n",
    "axs[1].hist(log_data, bins=10)\n",
    "axs[1].set_title(\"Log Transformed Data\")\n",
    "\n",
    "plt.show()\n"
   ]
  },
  {
   "cell_type": "code",
   "execution_count": 7,
   "metadata": {},
   "outputs": [],
   "source": [
    "from pandasgui import show"
   ]
  },
  {
   "cell_type": "code",
   "execution_count": 8,
   "metadata": {},
   "outputs": [
    {
     "name": "stderr",
     "output_type": "stream",
     "text": [
      "PandasGUI INFO — pandasgui.gui — Opening PandasGUI\n"
     ]
    }
   ],
   "source": [
    "gui = show(df)"
   ]
  },
  {
   "attachments": {},
   "cell_type": "markdown",
   "metadata": {},
   "source": [
    "\"年月日\"列のデータ型をdatetime型に変換し、新しい\"日時\"列として追加する"
   ]
  },
  {
   "cell_type": "code",
   "execution_count": 13,
   "metadata": {},
   "outputs": [],
   "source": [
    "df[\"日時\"] = pd.to_datetime(df[\"年月日\"])"
   ]
  },
  {
   "attachments": {},
   "cell_type": "markdown",
   "metadata": {},
   "source": [
    "はい、PandasGUIはVS Codeのターミナル上で実行されている場合でも、VS Codeを閉じた際に自動的にシャットダウンされます。これは、PandasGUI自体がPythonコードとしてVS Code上で実行されているためです。ただし、PandasGUIを独立したプロセスとして実行することもできます。その場合、VS Codeを閉じてもPandasGUIはシャットダウンしません。PandasGUIを独立したプロセスとして実行するには、次のようにコマンドライン引数 `--no-code`を指定して、PandasGUIを起動します。\n",
    "\n",
    "```\n",
    "pandasgui --no-code\n",
    "```\n",
    "\n",
    "これにより、PandasGUIはVS Codeから切り離され、独立したウィンドウとして表示されます。"
   ]
  },
  {
   "attachments": {},
   "cell_type": "markdown",
   "metadata": {},
   "source": [
    "はい、PandasGUIはGUIを介してデータの編集、加工、可視化などが直感的に行える便利なツールです。DataFrameを選択し、データフレームのビューで右クリックすると、選択可能なさまざまなオプションが表示されます。たとえば、「列の追加」、「列名の変更」、「行の移動」、「フィルタの適用」といった操作が簡単に行えます。また、`apply()`関数を使用して自分で関数を定義し、これを一括処理したりもできます。ぜひ、PandasGUIを使ってデータの加工を直感的に行ってみてください。"
   ]
  },
  {
   "cell_type": "code",
   "execution_count": 14,
   "metadata": {},
   "outputs": [],
   "source": [
    "#\"日時\"列をデータフレームのインデックスに設定する\n",
    "df.set_index(\"日時\",inplace=True)"
   ]
  },
  {
   "cell_type": "code",
   "execution_count": 15,
   "metadata": {},
   "outputs": [
    {
     "name": "stdout",
     "output_type": "stream",
     "text": [
      "                                     年月日       終値\n",
      "日時                                               \n",
      "2021-01-04 07:00:00   2021/01/04 7:00:00  103.222\n",
      "2021-01-04 08:00:00   2021/01/04 8:00:00  103.248\n",
      "2021-01-04 09:00:00   2021/01/04 9:00:00  103.064\n",
      "2021-01-04 10:00:00  2021/01/04 10:00:00  103.058\n",
      "2021-01-04 11:00:00  2021/01/04 11:00:00  102.983\n"
     ]
    }
   ],
   "source": [
    "#結果を確認する\n",
    "print(df.head())"
   ]
  },
  {
   "attachments": {},
   "cell_type": "markdown",
   "metadata": {},
   "source": [
    "Pandas GUIを使って\"年月日\"列を削除するには、以下の手順を実行してください。\n",
    "\n",
    "1. データフレームを読み込んで、表示します。\n",
    "2. 削除したい\"年月日\"列を選択して、右クリックします。\n",
    "3. 表示されるコンテキストメニューから「Delete Column」を選択します。\n",
    "4. 確認ダイアログが表示された場合は、「Yes」をクリックして削除を確定します。\n",
    "5. 変更を保存して終了します。\n",
    "\n",
    "以上の手順を順番に実行することで、Pandas GUIを使って\"年月日\"列を削除することができます。ただし、この方法ではコードを記述する場合と異なり、変更内容が自動的に反映されないため、手動で保存する必要があります。"
   ]
  },
  {
   "cell_type": "code",
   "execution_count": 17,
   "metadata": {},
   "outputs": [
    {
     "name": "stdout",
     "output_type": "stream",
     "text": [
      "                                     年月日       終値\n",
      "日時                                               \n",
      "2021-01-04 07:00:00   2021/01/04 7:00:00  103.222\n",
      "2021-01-04 08:00:00   2021/01/04 8:00:00  103.248\n",
      "2021-01-04 09:00:00   2021/01/04 9:00:00  103.064\n",
      "2021-01-04 10:00:00  2021/01/04 10:00:00  103.058\n",
      "2021-01-04 11:00:00  2021/01/04 11:00:00  102.983\n"
     ]
    }
   ],
   "source": [
    "print(df.head())"
   ]
  },
  {
   "attachments": {},
   "cell_type": "markdown",
   "metadata": {},
   "source": [
    "分かりました、ありがとうございます！\n",
    "\n",
    "Pandas GUIで2列目を削除した場合でも、元のCSVファイルは編集されません。このため、元データは\"日時\"のままとなります。\n",
    "\n",
    "もし2列目を削除した結果を保存したい場合は、Pandas GUIのフレーム上で右クリックして「Export > CSV」を選択し、新しいファイル名を指定して保存することができます。そして、このエクスポートされたCSVファイルに2列目が削除された形で保存されています。このCSVファイルをExcelで開いても、変更内容が反映されたファイルが表示されるようになっています。"
   ]
  },
  {
   "cell_type": "code",
   "execution_count": 18,
   "metadata": {},
   "outputs": [],
   "source": [
    "#\"年月日\"と\"終値\"だけを抽出する\n",
    "df = df.loc[:, [\"年月日\",\"終値\"]]"
   ]
  },
  {
   "cell_type": "code",
   "execution_count": 19,
   "metadata": {},
   "outputs": [],
   "source": [
    "#\"年月日\"の列をdatetime型に変換してインデックスに設定する\n",
    "df[\"年月日\"] = pd.to_datetime(df[\"年月日\"])"
   ]
  },
  {
   "cell_type": "code",
   "execution_count": 20,
   "metadata": {},
   "outputs": [],
   "source": [
    "df.set_index(\"年月日\", inplace=True)"
   ]
  },
  {
   "cell_type": "code",
   "execution_count": 21,
   "metadata": {},
   "outputs": [
    {
     "name": "stdout",
     "output_type": "stream",
     "text": [
      "                          終値\n",
      "年月日                         \n",
      "2021-01-04 07:00:00  103.222\n",
      "2021-01-04 08:00:00  103.248\n",
      "2021-01-04 09:00:00  103.064\n",
      "2021-01-04 10:00:00  103.058\n",
      "2021-01-04 11:00:00  102.983\n"
     ]
    }
   ],
   "source": [
    "print(df.head())"
   ]
  },
  {
   "attachments": {},
   "cell_type": "markdown",
   "metadata": {},
   "source": [
    "import pandas as pd\n",
    "import matplotlib.pyplot as plt\n",
    "\n",
    "# CSVファイルからデータを読み取る\n",
    "df = pd.read_csv(\"file.csv\")\n",
    "\n",
    "# \"日時\"と\"終値\"の列だけを抽出する\n",
    "df = df.loc[:, [\"日時\", \"終値\"]]\n",
    "df[\"日時\"] = pd.to_datetime(df[\"日時\"])\n",
    "df.set_index(\"日時\", inplace=True)\n",
    "df.sort_index(inplace=True)\n",
    "\n",
    "# グラフをプロットする\n",
    "plt.plot(df.index, df[\"終値\"])\n",
    "plt.show()\n"
   ]
  },
  {
   "cell_type": "code",
   "execution_count": 22,
   "metadata": {},
   "outputs": [],
   "source": [
    "import matplotlib.pyplot as plt\n",
    "df.sort_index(inplace=True)\n"
   ]
  },
  {
   "attachments": {},
   "cell_type": "markdown",
   "metadata": {},
   "source": [
    "import pandas as pd\n",
    "\n",
    "# CSVファイルを読み込む\n",
    "df = pd.read_csv(\"ファイル名.csv\")\n",
    "# \"日時\"と\"終値\"の列だけを抽出する\n",
    "df = df.loc[:, [\"日時\", \"終値\"]]\n",
    "# \"日時\"の列をdatetime型に変換してインデックスに設定する\n",
    "df[\"日時\"] = pd.to_datetime(df[\"日時\"])\n",
    "df.set_index(\"日時\", inplace=True)\n",
    "# 日時で昇順に並び替える\n",
    "df.sort_index(inplace=True)\n",
    "\n",
    "# 確認用に先頭5行を表示する\n",
    "print(df.head())\n"
   ]
  },
  {
   "cell_type": "code",
   "execution_count": 23,
   "metadata": {},
   "outputs": [
    {
     "data": {
      "image/png": "[encoded data removed]",
      "text/plain": [
       "<Figure size 640x480 with 1 Axes>"
      ]
     },
     "metadata": {},
     "output_type": "display_data"
    }
   ],
   "source": [
    "plt.plot(df.index, df[\"終値\"])\n",
    "plt.show()"
   ]
  },
  {
   "attachments": {},
   "cell_type": "markdown",
   "metadata": {},
   "source": [
    "DataFrameの場合、 `resample()` メソッドを使って、日時を月単位で集計することができます。また、`groupby()`メソッドを使用して、終値を月別にまとめることもできます。\n",
    "\n",
    "以下は、 `resample()` と `groupby()` を組み合わせて、日時と終値を月別で集計するサンプルコードです。\n",
    "\n",
    "```python\n",
    "import pandas as pd\n",
    "\n",
    "# 日付、終値のデータが保存されているDataFrameを作成\n",
    "df = pd.DataFrame({'date': ['2021-01-15', '2021-01-25', '2021-02-15', '2021-02-25', '2021-03-15', '2021-03-25'],\n",
    "                   'price': [100, 110, 120, 130, 140, 150]})\n",
    "\n",
    "# 日付をdatetime型に変換\n",
    "df['date'] = pd.to_datetime(df['date'])\n",
    "\n",
    "# 日付をインデックスに設定\n",
    "df.set_index('date', inplace=True)\n",
    "\n",
    "# 月ごとの集計\n",
    "monthly_summary = df.resample('M').agg({'price': 'last'})\n",
    "\n",
    "# 結果の表示\n",
    "print(monthly_summary)\n",
    "```\n",
    "\n",
    "上記のコードでは、 `resample('M')` で月ごとに集計し、 `agg({'price': 'last'})` で最後の終値を取得しています。\n",
    "結果は、次のように表示されます:\n",
    "\n",
    "```\n",
    "            price\n",
    "date             \n",
    "2021-01-31    110\n",
    "2021-02-28    130\n",
    "2021-03-31    150\n",
    "```\n",
    "\n",
    "このように、月末の終値が集計されます。参考にしていただければ幸いです。"
   ]
  },
  {
   "cell_type": "code",
   "execution_count": 24,
   "metadata": {},
   "outputs": [],
   "source": [
    "monthly_summary = df.resample('M').agg({'終値': 'last'})\n"
   ]
  },
  {
   "attachments": {},
   "cell_type": "markdown",
   "metadata": {},
   "source": []
  },
  {
   "cell_type": "code",
   "execution_count": 25,
   "metadata": {},
   "outputs": [
    {
     "name": "stdout",
     "output_type": "stream",
     "text": [
      "                 終値\n",
      "年月日                \n",
      "2021-01-31  104.711\n",
      "2021-02-28  106.568\n",
      "2021-03-31  110.519\n",
      "2021-04-30  109.287\n",
      "2021-05-31  109.395\n",
      "2021-06-30  110.975\n",
      "2021-07-31  109.721\n",
      "2021-08-31  109.858\n",
      "2021-09-30  111.578\n",
      "2021-10-31  113.904\n",
      "2021-11-30  112.624\n",
      "2021-12-31  115.086\n",
      "2022-01-31  115.390\n",
      "2022-02-28  115.278\n",
      "2022-03-31  121.378\n",
      "2022-04-30  129.788\n",
      "2022-05-31  128.648\n",
      "2022-06-30  135.856\n",
      "2022-07-31  133.232\n",
      "2022-08-31  138.622\n",
      "2022-09-30  144.744\n",
      "2022-10-31  148.767\n",
      "2022-11-30  139.296\n",
      "2022-12-31  131.101\n",
      "2023-01-31  129.877\n"
     ]
    }
   ],
   "source": [
    "print(monthly_summary)"
   ]
  },
  {
   "cell_type": "code",
   "execution_count": 26,
   "metadata": {},
   "outputs": [],
   "source": [
    "monthly_summary.index = monthly_summary.index.strftime('%Y-%m-01')"
   ]
  },
  {
   "cell_type": "code",
   "execution_count": 27,
   "metadata": {},
   "outputs": [
    {
     "data": {
      "text/plain": [
       "<function matplotlib.pyplot.show(close=None, block=None)>"
      ]
     },
     "execution_count": 27,
     "metadata": {},
     "output_type": "execute_result"
    },
    {
     "data": {
      "image/png": "[encoded data removed]",
      "text/plain": [
       "<Figure size 640x480 with 1 Axes>"
      ]
     },
     "metadata": {},
     "output_type": "display_data"
    }
   ],
   "source": [
    "plt.plot(monthly_summary.index, monthly_summary['終値'])\n",
    "plt.show"
   ]
  },
  {
   "attachments": {},
   "cell_type": "markdown",
   "metadata": {},
   "source": [
    "`plt.plot()` を使用する場合、 `monthly_summary` には日付がインデックスとして含まれているため、x軸に日付が表示されます。これではグラフが見づらいため、月ごとの集計をプロットする前に、インデックスを月の初めに設定しなおす必要があります。\n",
    "\n",
    "また、`plt.plot()` でデータをプロットする場合、横軸に対応する値（月）と縦軸に対応する値（終値）を明示的に指定する必要があります。以下は、日付をインデックスとするDataFrameから、月ごとの集計を行い、月と終値をプロットするサンプルコードです。\n",
    "\n",
    "```python\n",
    "import pandas as pd\n",
    "import matplotlib.pyplot as plt\n",
    "\n",
    "# 日付、終値のデータが保存されているDataFrameを作成\n",
    "df = pd.DataFrame({'date': ['2021-01-15', '2021-01-25', '2021-02-15', '2021-02-25', '2021-03-15', '2021-03-25'],\n",
    "                   'price': [100, 110, 120, 130, 140, 150]})\n",
    "\n",
    "# 日付をdatetime型に変換\n",
    "df['date'] = pd.to_datetime(df['date'])\n",
    "\n",
    "# 日付をインデックスに設定\n",
    "df.set_index('date', inplace=True)\n",
    "\n",
    "# 月ごとの集計\n",
    "monthly_summary = df.resample('M').agg({'price': 'last'})\n",
    "\n",
    "# インデックスを月の最初に設定し直す\n",
    "monthly_summary.index = monthly_summary.index.strftime('%Y-%m-01')\n",
    "\n",
    "# プロット\n",
    "plt.plot(monthly_summary.index, monthly_summary['price'])\n",
    "plt.show()\n",
    "```\n",
    "\n",
    "上記のコードでは、 `index.strftime('%Y-%m-01')` でインデックスを月の最初に設定しなおしています。また、 `plt.plot()` でx軸とy軸に対応するデータを指定し、 `plt.show()` でグラフを表示しています。\n",
    "\n",
    "このようにすれば、月ごとの終値がプロットされたグラフが表示されます。参考にしていただければ幸いです。"
   ]
  },
  {
   "attachments": {},
   "cell_type": "markdown",
   "metadata": {},
   "source": [
    "はい、可能です。以下は、PandasとMatplotlibを使用したサンプルコードです。こちらのコードには、元のデータフレームと月末の'Price'を含む新しいデータフレームが必要です。新しいデータフレームにおいて、分析したい月のエントリー（行）だけを含めます。\n",
    "\n",
    "```python\n",
    "import pandas as pd\n",
    "import matplotlib.pyplot as plt\n",
    "\n",
    "# 全体のデータフレーム\n",
    "df_all = pd.read_csv('data.csv', index_col=0, parse_dates=True)\n",
    "\n",
    "# 月末のデータフレーム\n",
    "df_month_end = pd.read_csv('month_end_data.csv', index_col=0, parse_dates=True)\n",
    "\n",
    "# 1時間おきのグラフ\n",
    "plt.plot(df_all['Price'], label='Hourly Price')\n",
    "\n",
    "# 月末のグラフ\n",
    "plt.plot(df_month_end['Price'], label='Month End Price')\n",
    "\n",
    "# グラフのタイトル\n",
    "plt.title('Prices')\n",
    "\n",
    "# X軸のラベル\n",
    "plt.xlabel('Date')\n",
    "\n",
    "# Y軸のラベル\n",
    "plt.ylabel('Price')\n",
    "\n",
    "# 凡例を表示する\n",
    "plt.legend()\n",
    "\n",
    "# グラフを表示する\n",
    "plt.show()\n",
    "```\n",
    "\n",
    "このコードは、元のデータフレームと月末のデータフレームから、それぞれ'Price'列を取得してグラフを描画します。グラフは、X軸に日付、Y軸に価格が表示されます。また、グラフのタイトルと軸ラベルを設定し、凡例を表示しています。\n",
    "\n",
    "このように、複数のデータセットを重ね合わせる事で、価格のトレンドや月末の傾向が見えてくるかもしれません。ただし、グラフを見るだけではなく、適切な分析に基づいた意思決定を行うことが重要です。"
   ]
  },
  {
   "cell_type": "code",
   "execution_count": 28,
   "metadata": {},
   "outputs": [],
   "source": [
    "df_all = pd.read_csv('usdjpy.csv', index_col=0, parse_dates=True)"
   ]
  },
  {
   "cell_type": "code",
   "execution_count": 29,
   "metadata": {},
   "outputs": [
    {
     "name": "stdout",
     "output_type": "stream",
     "text": [
      "                          終値\n",
      "年月日                         \n",
      "2021-01-04 07:00:00  103.222\n",
      "2021-01-04 08:00:00  103.248\n",
      "2021-01-04 09:00:00  103.064\n",
      "2021-01-04 10:00:00  103.058\n",
      "2021-01-04 11:00:00  102.983\n",
      "...                      ...\n",
      "2023-01-26 18:00:00  129.959\n",
      "2023-01-26 19:00:00  129.680\n",
      "2023-01-26 20:00:00  129.824\n",
      "2023-01-26 21:00:00  129.756\n",
      "2023-01-26 22:00:00  129.877\n",
      "\n",
      "[12901 rows x 1 columns]\n"
     ]
    }
   ],
   "source": [
    "print(df_all)\n"
   ]
  },
  {
   "cell_type": "code",
   "execution_count": 30,
   "metadata": {},
   "outputs": [
    {
     "data": {
      "text/plain": [
       "[<matplotlib.lines.Line2D at 0x2087d4c0dd0>]"
      ]
     },
     "execution_count": 30,
     "metadata": {},
     "output_type": "execute_result"
    },
    {
     "data": {
      "image/png": "[encoded data removed]",
      "text/plain": [
       "<Figure size 640x480 with 1 Axes>"
      ]
     },
     "metadata": {},
     "output_type": "display_data"
    }
   ],
   "source": [
    "plt.plot(df_all['終値'], label='Hourly Price')\n",
    "\n",
    "\n"
   ]
  },
  {
   "cell_type": "code",
   "execution_count": 31,
   "metadata": {},
   "outputs": [],
   "source": [
    "df_month_end = df_all.resample('M').last()"
   ]
  },
  {
   "cell_type": "code",
   "execution_count": 32,
   "metadata": {},
   "outputs": [
    {
     "data": {
      "image/png": "[encoded data removed]",
      "text/plain": [
       "<Figure size 640x480 with 1 Axes>"
      ]
     },
     "metadata": {},
     "output_type": "display_data"
    }
   ],
   "source": [
    "plt.plot(df_month_end)\n",
    "plt.show()"
   ]
  },
  {
   "attachments": {},
   "cell_type": "markdown",
   "metadata": {},
   "source": [
    "import matplotlib.pyplot as plt\n",
    "\n",
    "# グラフのスタイルを指定（任意）\n",
    "plt.style.use('ggplot')\n",
    "\n",
    "# データを抽出\n",
    "column_name = 'column_name' # 共通するカラム名を指定\n",
    "data_all = df_all[column_name]\n",
    "data_month_end = df_month_end[column_name]\n",
    "\n",
    "# グラフの描画\n",
    "plt.plot(data_all.index, data_all, label='All Data')\n",
    "plt.plot(data_month_end.index, data_month_end, label='Monthly Data')\n",
    "\n",
    "# x軸とy軸のラベルを設定\n",
    "plt.xlabel('Date')\n",
    "plt.ylabel('Value')\n",
    "\n",
    "# グラフのタイトルを設定\n",
    "plt.title('Comparison of Data')\n",
    "\n",
    "# 凡例の表示\n",
    "plt.legend()\n",
    "\n",
    "# グラフを表示\n",
    "plt.show()\n"
   ]
  },
  {
   "attachments": {},
   "cell_type": "markdown",
   "metadata": {},
   "source": [
    "plt.style.use('ggplot')\n",
    "\n",
    "# データを抽出\n",
    "column_name = 'column_name' # 共通するカラム名を指定\n",
    "data_all = df_all[column_name]\n",
    "data_month_end = df_month_end[column_name]\n",
    "\n",
    "# グラフの描画\n",
    "plt.plot(data_all.index, data_all, label='All Data')\n",
    "plt.plot(data_month_end.index, data_month_end, label='Monthly Data')\n",
    "\n",
    "# x軸とy軸のラベルを設定\n",
    "plt.xlabel('Date')\n",
    "plt.ylabel('Value')\n",
    "\n",
    "# グラフのタイトルを設定\n",
    "plt.title('Comparison of Data')\n",
    "\n",
    "# 凡例の表示\n",
    "plt.legend()\n",
    "\n",
    "# グラフを表示\n",
    "plt.show()"
   ]
  },
  {
   "cell_type": "code",
   "execution_count": 45,
   "metadata": {},
   "outputs": [],
   "source": [
    "plt.style.use('ggplot')\n"
   ]
  },
  {
   "cell_type": "code",
   "execution_count": 46,
   "metadata": {},
   "outputs": [],
   "source": [
    "column_name = 'column_name'"
   ]
  },
  {
   "cell_type": "code",
   "execution_count": 47,
   "metadata": {},
   "outputs": [
    {
     "ename": "KeyError",
     "evalue": "'column_name'",
     "output_type": "error",
     "traceback": [
      "\u001b[1;31m---------------------------------------------------------------------------\u001b[0m",
      "\u001b[1;31mKeyError\u001b[0m                                  Traceback (most recent call last)",
      "File \u001b[1;32mc:\\Users\\ohmur\\AppData\\Local\\Programs\\Python\\Python311\\Lib\\site-packages\\pandas\\core\\indexes\\base.py:3803\u001b[0m, in \u001b[0;36mIndex.get_loc\u001b[1;34m(self, key, method, tolerance)\u001b[0m\n\u001b[0;32m   3802\u001b[0m \u001b[39mtry\u001b[39;00m:\n\u001b[1;32m-> 3803\u001b[0m     \u001b[39mreturn\u001b[39;00m \u001b[39mself\u001b[39;49m\u001b[39m.\u001b[39;49m_engine\u001b[39m.\u001b[39;49mget_loc(casted_key)\n\u001b[0;32m   3804\u001b[0m \u001b[39mexcept\u001b[39;00m \u001b[39mKeyError\u001b[39;00m \u001b[39mas\u001b[39;00m err:\n",
      "File \u001b[1;32mc:\\Users\\ohmur\\AppData\\Local\\Programs\\Python\\Python311\\Lib\\site-packages\\pandas\\_libs\\index.pyx:138\u001b[0m, in \u001b[0;36mpandas._libs.index.IndexEngine.get_loc\u001b[1;34m()\u001b[0m\n",
      "File \u001b[1;32mc:\\Users\\ohmur\\AppData\\Local\\Programs\\Python\\Python311\\Lib\\site-packages\\pandas\\_libs\\index.pyx:165\u001b[0m, in \u001b[0;36mpandas._libs.index.IndexEngine.get_loc\u001b[1;34m()\u001b[0m\n",
      "File \u001b[1;32mpandas\\_libs\\hashtable_class_helper.pxi:5745\u001b[0m, in \u001b[0;36mpandas._libs.hashtable.PyObjectHashTable.get_item\u001b[1;34m()\u001b[0m\n",
      "File \u001b[1;32mpandas\\_libs\\hashtable_class_helper.pxi:5753\u001b[0m, in \u001b[0;36mpandas._libs.hashtable.PyObjectHashTable.get_item\u001b[1;34m()\u001b[0m\n",
      "\u001b[1;31mKeyError\u001b[0m: 'column_name'",
      "\nThe above exception was the direct cause of the following exception:\n",
      "\u001b[1;31mKeyError\u001b[0m                                  Traceback (most recent call last)",
      "Cell \u001b[1;32mIn[47], line 1\u001b[0m\n\u001b[1;32m----> 1\u001b[0m data_all \u001b[39m=\u001b[39m df_all[column_name]\n",
      "File \u001b[1;32mc:\\Users\\ohmur\\AppData\\Local\\Programs\\Python\\Python311\\Lib\\site-packages\\pandas\\core\\frame.py:3805\u001b[0m, in \u001b[0;36mDataFrame.__getitem__\u001b[1;34m(self, key)\u001b[0m\n\u001b[0;32m   3803\u001b[0m \u001b[39mif\u001b[39;00m \u001b[39mself\u001b[39m\u001b[39m.\u001b[39mcolumns\u001b[39m.\u001b[39mnlevels \u001b[39m>\u001b[39m \u001b[39m1\u001b[39m:\n\u001b[0;32m   3804\u001b[0m     \u001b[39mreturn\u001b[39;00m \u001b[39mself\u001b[39m\u001b[39m.\u001b[39m_getitem_multilevel(key)\n\u001b[1;32m-> 3805\u001b[0m indexer \u001b[39m=\u001b[39m \u001b[39mself\u001b[39;49m\u001b[39m.\u001b[39;49mcolumns\u001b[39m.\u001b[39;49mget_loc(key)\n\u001b[0;32m   3806\u001b[0m \u001b[39mif\u001b[39;00m is_integer(indexer):\n\u001b[0;32m   3807\u001b[0m     indexer \u001b[39m=\u001b[39m [indexer]\n",
      "File \u001b[1;32mc:\\Users\\ohmur\\AppData\\Local\\Programs\\Python\\Python311\\Lib\\site-packages\\pandas\\core\\indexes\\base.py:3805\u001b[0m, in \u001b[0;36mIndex.get_loc\u001b[1;34m(self, key, method, tolerance)\u001b[0m\n\u001b[0;32m   3803\u001b[0m     \u001b[39mreturn\u001b[39;00m \u001b[39mself\u001b[39m\u001b[39m.\u001b[39m_engine\u001b[39m.\u001b[39mget_loc(casted_key)\n\u001b[0;32m   3804\u001b[0m \u001b[39mexcept\u001b[39;00m \u001b[39mKeyError\u001b[39;00m \u001b[39mas\u001b[39;00m err:\n\u001b[1;32m-> 3805\u001b[0m     \u001b[39mraise\u001b[39;00m \u001b[39mKeyError\u001b[39;00m(key) \u001b[39mfrom\u001b[39;00m \u001b[39merr\u001b[39;00m\n\u001b[0;32m   3806\u001b[0m \u001b[39mexcept\u001b[39;00m \u001b[39mTypeError\u001b[39;00m:\n\u001b[0;32m   3807\u001b[0m     \u001b[39m# If we have a listlike key, _check_indexing_error will raise\u001b[39;00m\n\u001b[0;32m   3808\u001b[0m     \u001b[39m#  InvalidIndexError. Otherwise we fall through and re-raise\u001b[39;00m\n\u001b[0;32m   3809\u001b[0m     \u001b[39m#  the TypeError.\u001b[39;00m\n\u001b[0;32m   3810\u001b[0m     \u001b[39mself\u001b[39m\u001b[39m.\u001b[39m_check_indexing_error(key)\n",
      "\u001b[1;31mKeyError\u001b[0m: 'column_name'"
     ]
    }
   ],
   "source": [
    "data_all = df_all[column_name]"
   ]
  },
  {
   "attachments": {},
   "cell_type": "markdown",
   "metadata": {},
   "source": [
    "申し訳ありません、回答が間違っていました。`df_all['column name']` でデータを抽出することができます。以下は修正されたコードです。\n",
    "\n",
    "```python\n",
    "import matplotlib.pyplot as plt\n",
    "\n",
    "# グラフのスタイルを指定（任意）\n",
    "plt.style.use('ggplot')\n",
    "\n",
    "# データを抽出\n",
    "column_name = 'column name' # 共通するカラム名を指定\n",
    "data_all = df_all[column_name]\n",
    "data_month_end = df_month_end[column_name]\n",
    "\n",
    "# グラフの描画\n",
    "plt.plot(data_all.index, data_all, label='All Data')\n",
    "plt.plot(data_month_end.index, data_month_end, label='Monthly Data')\n",
    "\n",
    "# x軸とy軸のラベルを設定\n",
    "plt.xlabel('Date')\n",
    "plt.ylabel('Value')\n",
    "\n",
    "# グラフのタイトルを設定\n",
    "plt.title('Comparison of Data')\n",
    "\n",
    "# 凡例の表示\n",
    "plt.legend()\n",
    "\n",
    "# グラフを表示\n",
    "plt.show()\n",
    "```\n",
    "\n",
    "また、列名が間違っている場合には `df_all.columns` を使ってカラム名一覧を確認して、正しいカラム名を指定してください。"
   ]
  }
 ],
 "metadata": {
  "kernelspec": {
   "display_name": "Python 3",
   "language": "python",
   "name": "python3"
  },
  "language_info": {
   "codemirror_mode": {
    "name": "ipython",
    "version": 3
   },
   "file_extension": ".py",
   "mimetype": "text/x-python",
   "name": "python",
   "nbconvert_exporter": "python",
   "pygments_lexer": "ipython3",
   "version": "3.11.1"
  },
  "orig_nbformat": 4,
  "vscode": {
   "interpreter": {
    "hash": "bca7eb7f744ef893c07d9e9bb7116cac18db40396da028bb4b1fb9cd3a9954b4"
   }
  }
 },
 "nbformat": 4,
 "nbformat_minor": 2
}
